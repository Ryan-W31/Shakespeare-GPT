{
 "cells": [
  {
   "cell_type": "markdown",
   "id": "0bf0780a",
   "metadata": {},
   "source": [
    "# Shakespeare GPT -- GPT From Scratch!\n"
   ]
  },
  {
   "cell_type": "code",
   "execution_count": 1,
   "id": "c5ccfe15",
   "metadata": {},
   "outputs": [],
   "source": [
    "import torch\n",
    "import torch.nn as nn\n",
    "from torch.nn import functional as F"
   ]
  },
  {
   "cell_type": "markdown",
   "id": "f2457a2d",
   "metadata": {},
   "source": [
    "# Dataset Exploration and Modification\n"
   ]
  },
  {
   "cell_type": "code",
   "execution_count": 2,
   "id": "ae8e07e5",
   "metadata": {},
   "outputs": [],
   "source": [
    "# read in input\n",
    "with open('./input.txt', 'r', encoding='utf-8') as f:\n",
    "    text = f.read()"
   ]
  },
  {
   "cell_type": "code",
   "execution_count": 3,
   "id": "b9816c1d",
   "metadata": {},
   "outputs": [
    {
     "name": "stdout",
     "output_type": "stream",
     "text": [
      "Length of dataset in chars: 1115394\n",
      "First Citizen:\n",
      "Before we proceed any further, hear me speak.\n",
      "\n",
      "All:\n",
      "Speak, speak.\n",
      "\n",
      "First Citizen:\n",
      "You are all resolved rather to die than to famish?\n",
      "\n",
      "All:\n",
      "Resolved. resolved.\n",
      "\n",
      "First Citizen:\n",
      "First, you know Caius Marcius is chief enemy to the people.\n",
      "\n",
      "All:\n",
      "We know't, we know't.\n",
      "\n",
      "First Citizen:\n",
      "Let us kill him, and we'll have corn at our own price.\n",
      "Is't a verdict?\n",
      "\n",
      "All:\n",
      "No more talking on't; let it be done: away, away!\n",
      "\n",
      "Second Citizen:\n",
      "One word, good citizens.\n",
      "\n",
      "First Citizen:\n",
      "We are accounted poor citizens, the patricians good.\n",
      "What authority surfeits on would relieve us: if they\n",
      "would yield us but the superfluity, while it were\n",
      "wholesome, we might guess they relieved us humanely;\n",
      "but they think we are too dear: the leanness that\n",
      "afflicts us, the object of our misery, is as an\n",
      "inventory to particularise their abundance; our\n",
      "sufferance is a gain to them Let us revenge this with\n",
      "our pikes, ere we become rakes: for the gods know I\n",
      "speak this in hunger for bread, not in thirst for revenge.\n",
      "\n",
      "\n"
     ]
    }
   ],
   "source": [
    "# inpeact the length and the first 1000 chars\n",
    "print(\"Length of dataset in chars:\", len(text))\n",
    "print(text[:1000])"
   ]
  },
  {
   "cell_type": "code",
   "execution_count": 4,
   "id": "7e4b5800-4a33-435b-8701-b5327fd6e4d0",
   "metadata": {},
   "outputs": [
    {
     "name": "stdout",
     "output_type": "stream",
     "text": [
      "['\\n', ' ', '!', '$', '&', \"'\", ',', '-', '.', '3', ':', ';', '?', 'A', 'B', 'C', 'D', 'E', 'F', 'G', 'H', 'I', 'J', 'K', 'L', 'M', 'N', 'O', 'P', 'Q', 'R', 'S', 'T', 'U', 'V', 'W', 'X', 'Y', 'Z', 'a', 'b', 'c', 'd', 'e', 'f', 'g', 'h', 'i', 'j', 'k', 'l', 'm', 'n', 'o', 'p', 'q', 'r', 's', 't', 'u', 'v', 'w', 'x', 'y', 'z']\n",
      "65\n"
     ]
    }
   ],
   "source": [
    "# create an alphabet based on the input\n",
    "chars = sorted(list(set(text)))\n",
    "vocab_size = len(chars)\n",
    "print(chars)\n",
    "print(vocab_size)"
   ]
  },
  {
   "cell_type": "code",
   "execution_count": 5,
   "id": "56a6dae1",
   "metadata": {},
   "outputs": [
    {
     "name": "stdout",
     "output_type": "stream",
     "text": [
      "[20, 43, 50, 50, 53, 1, 35, 53, 56, 50, 42, 2]\n",
      "Hello World!\n"
     ]
    }
   ],
   "source": [
    "# time to tokenize the alphabet (character tokenizer)\n",
    "\n",
    "# lets create a mapping for encoding (char to int) and decoding (int to char)\n",
    "stoi = {s:i for i,s in enumerate(chars)}\n",
    "itos = {i:s for s, i in stoi.items()}\n",
    "\n",
    "encode = lambda s: [stoi[c] for c in s] # string to list of ints\n",
    "decode = lambda l: ''.join([itos[i] for i in l]) # list of ints to string\n",
    "\n",
    "print(encode(\"Hello World!\"))\n",
    "print(decode(encode(\"Hello World!\")))"
   ]
  },
  {
   "cell_type": "code",
   "execution_count": 6,
   "id": "3ecfc684",
   "metadata": {},
   "outputs": [
    {
     "name": "stdout",
     "output_type": "stream",
     "text": [
      "torch.Size([1115394]) torch.int64\n",
      "tensor([18, 47, 56, 57, 58,  1, 15, 47, 58, 47, 64, 43, 52, 10,  0, 14, 43, 44,\n",
      "        53, 56, 43,  1, 61, 43,  1, 54, 56, 53, 41, 43, 43, 42,  1, 39, 52, 63,\n",
      "         1, 44, 59, 56, 58, 46, 43, 56,  6,  1, 46, 43, 39, 56,  1, 51, 43,  1,\n",
      "        57, 54, 43, 39, 49,  8,  0,  0, 13, 50, 50, 10,  0, 31, 54, 43, 39, 49,\n",
      "         6,  1, 57, 54, 43, 39, 49,  8,  0,  0, 18, 47, 56, 57, 58,  1, 15, 47,\n",
      "        58, 47, 64, 43, 52, 10,  0, 37, 53, 59,  1, 39, 56, 43,  1, 39, 50, 50,\n",
      "         1, 56, 43, 57, 53, 50, 60, 43, 42,  1, 56, 39, 58, 46, 43, 56,  1, 58,\n",
      "        53,  1, 42, 47, 43,  1, 58, 46, 39, 52,  1, 58, 53,  1, 44, 39, 51, 47,\n",
      "        57, 46, 12,  0,  0, 13, 50, 50, 10,  0, 30, 43, 57, 53, 50, 60, 43, 42,\n",
      "         8,  1, 56, 43, 57, 53, 50, 60, 43, 42,  8,  0,  0, 18, 47, 56, 57, 58,\n",
      "         1, 15, 47, 58, 47, 64, 43, 52, 10,  0, 18, 47, 56, 57, 58,  6,  1, 63,\n",
      "        53, 59,  1, 49, 52, 53, 61,  1, 15, 39, 47, 59, 57,  1, 25, 39, 56, 41,\n",
      "        47, 59, 57,  1, 47, 57,  1, 41, 46, 47, 43, 44,  1, 43, 52, 43, 51, 63,\n",
      "         1, 58, 53,  1, 58, 46, 43,  1, 54, 43, 53, 54, 50, 43,  8,  0,  0, 13,\n",
      "        50, 50, 10,  0, 35, 43,  1, 49, 52, 53, 61,  5, 58,  6,  1, 61, 43,  1,\n",
      "        49, 52, 53, 61,  5, 58,  8,  0,  0, 18, 47, 56, 57, 58,  1, 15, 47, 58,\n",
      "        47, 64, 43, 52, 10,  0, 24, 43, 58,  1, 59, 57,  1, 49, 47, 50, 50,  1,\n",
      "        46, 47, 51,  6,  1, 39, 52, 42,  1, 61, 43,  5, 50, 50,  1, 46, 39, 60,\n",
      "        43,  1, 41, 53, 56, 52,  1, 39, 58,  1, 53, 59, 56,  1, 53, 61, 52,  1,\n",
      "        54, 56, 47, 41, 43,  8,  0, 21, 57,  5, 58,  1, 39,  1, 60, 43, 56, 42,\n",
      "        47, 41, 58, 12,  0,  0, 13, 50, 50, 10,  0, 26, 53,  1, 51, 53, 56, 43,\n",
      "         1, 58, 39, 50, 49, 47, 52, 45,  1, 53, 52,  5, 58, 11,  1, 50, 43, 58,\n",
      "         1, 47, 58,  1, 40, 43,  1, 42, 53, 52, 43, 10,  1, 39, 61, 39, 63,  6,\n",
      "         1, 39, 61, 39, 63,  2,  0,  0, 31, 43, 41, 53, 52, 42,  1, 15, 47, 58,\n",
      "        47, 64, 43, 52, 10,  0, 27, 52, 43,  1, 61, 53, 56, 42,  6,  1, 45, 53,\n",
      "        53, 42,  1, 41, 47, 58, 47, 64, 43, 52, 57,  8,  0,  0, 18, 47, 56, 57,\n",
      "        58,  1, 15, 47, 58, 47, 64, 43, 52, 10,  0, 35, 43,  1, 39, 56, 43,  1,\n",
      "        39, 41, 41, 53, 59, 52, 58, 43, 42,  1, 54, 53, 53, 56,  1, 41, 47, 58,\n",
      "        47, 64, 43, 52, 57,  6,  1, 58, 46, 43,  1, 54, 39, 58, 56, 47, 41, 47,\n",
      "        39, 52, 57,  1, 45, 53, 53, 42,  8,  0, 35, 46, 39, 58,  1, 39, 59, 58,\n",
      "        46, 53, 56, 47, 58, 63,  1, 57, 59, 56, 44, 43, 47, 58, 57,  1, 53, 52,\n",
      "         1, 61, 53, 59, 50, 42,  1, 56, 43, 50, 47, 43, 60, 43,  1, 59, 57, 10,\n",
      "         1, 47, 44,  1, 58, 46, 43, 63,  0, 61, 53, 59, 50, 42,  1, 63, 47, 43,\n",
      "        50, 42,  1, 59, 57,  1, 40, 59, 58,  1, 58, 46, 43,  1, 57, 59, 54, 43,\n",
      "        56, 44, 50, 59, 47, 58, 63,  6,  1, 61, 46, 47, 50, 43,  1, 47, 58,  1,\n",
      "        61, 43, 56, 43,  0, 61, 46, 53, 50, 43, 57, 53, 51, 43,  6,  1, 61, 43,\n",
      "         1, 51, 47, 45, 46, 58,  1, 45, 59, 43, 57, 57,  1, 58, 46, 43, 63,  1,\n",
      "        56, 43, 50, 47, 43, 60, 43, 42,  1, 59, 57,  1, 46, 59, 51, 39, 52, 43,\n",
      "        50, 63, 11,  0, 40, 59, 58,  1, 58, 46, 43, 63,  1, 58, 46, 47, 52, 49,\n",
      "         1, 61, 43,  1, 39, 56, 43,  1, 58, 53, 53,  1, 42, 43, 39, 56, 10,  1,\n",
      "        58, 46, 43,  1, 50, 43, 39, 52, 52, 43, 57, 57,  1, 58, 46, 39, 58,  0,\n",
      "        39, 44, 44, 50, 47, 41, 58, 57,  1, 59, 57,  6,  1, 58, 46, 43,  1, 53,\n",
      "        40, 48, 43, 41, 58,  1, 53, 44,  1, 53, 59, 56,  1, 51, 47, 57, 43, 56,\n",
      "        63,  6,  1, 47, 57,  1, 39, 57,  1, 39, 52,  0, 47, 52, 60, 43, 52, 58,\n",
      "        53, 56, 63,  1, 58, 53,  1, 54, 39, 56, 58, 47, 41, 59, 50, 39, 56, 47,\n",
      "        57, 43,  1, 58, 46, 43, 47, 56,  1, 39, 40, 59, 52, 42, 39, 52, 41, 43,\n",
      "        11,  1, 53, 59, 56,  0, 57, 59, 44, 44, 43, 56, 39, 52, 41, 43,  1, 47,\n",
      "        57,  1, 39,  1, 45, 39, 47, 52,  1, 58, 53,  1, 58, 46, 43, 51,  1, 24,\n",
      "        43, 58,  1, 59, 57,  1, 56, 43, 60, 43, 52, 45, 43,  1, 58, 46, 47, 57,\n",
      "         1, 61, 47, 58, 46,  0, 53, 59, 56,  1, 54, 47, 49, 43, 57,  6,  1, 43,\n",
      "        56, 43,  1, 61, 43,  1, 40, 43, 41, 53, 51, 43,  1, 56, 39, 49, 43, 57,\n",
      "        10,  1, 44, 53, 56,  1, 58, 46, 43,  1, 45, 53, 42, 57,  1, 49, 52, 53,\n",
      "        61,  1, 21,  0, 57, 54, 43, 39, 49,  1, 58, 46, 47, 57,  1, 47, 52,  1,\n",
      "        46, 59, 52, 45, 43, 56,  1, 44, 53, 56,  1, 40, 56, 43, 39, 42,  6,  1,\n",
      "        52, 53, 58,  1, 47, 52,  1, 58, 46, 47, 56, 57, 58,  1, 44, 53, 56,  1,\n",
      "        56, 43, 60, 43, 52, 45, 43,  8,  0,  0])\n"
     ]
    }
   ],
   "source": [
    "data = torch.tensor(encode(text), dtype=torch.long)\n",
    "print(data.shape, data.dtype)\n",
    "print(data[:1000])"
   ]
  },
  {
   "cell_type": "markdown",
   "id": "450612a0",
   "metadata": {},
   "source": [
    "# Dataset Splitting\n"
   ]
  },
  {
   "cell_type": "code",
   "execution_count": 16,
   "id": "1857b404",
   "metadata": {},
   "outputs": [
    {
     "name": "stdout",
     "output_type": "stream",
     "text": [
      "TRAIN: torch.Size([1003854])\n",
      "VAL: torch.Size([111540])\n"
     ]
    }
   ],
   "source": [
    "# splitting the dataset into a train (90%) set and a validation (10%) set\n",
    "n = int(0.9 * len(data))\n",
    "train = data[:n]\n",
    "val = data[n:]\n",
    "\n",
    "print(\"TRAIN:\", train.shape)\n",
    "print(\"VAL:\", val.shape)"
   ]
  },
  {
   "cell_type": "code",
   "execution_count": 56,
   "id": "6ae21549",
   "metadata": {},
   "outputs": [
    {
     "name": "stdout",
     "output_type": "stream",
     "text": [
      "Inputs shape: torch.Size([4, 8])\n",
      "Inputs:\n",
      "tensor([[51, 47, 53,  6,  1, 58, 46, 53],\n",
      "        [37, 30, 30, 17, 24, 10,  0, 21],\n",
      "        [21,  5, 50, 50,  1, 54, 56, 53],\n",
      "        [41, 43, 47, 60, 43,  0, 37, 53]])\n",
      "\n",
      "Targets shape: torch.Size([4, 8])\n",
      "Targets:\n",
      "\n",
      "tensor([[47, 53,  6,  1, 58, 46, 53, 59],\n",
      "        [30, 30, 17, 24, 10,  0, 21,  1],\n",
      "        [ 5, 50, 50,  1, 54, 56, 53, 51],\n",
      "        [43, 47, 60, 43,  0, 37, 53, 59]])\n",
      "\n",
      "Block #1:\n",
      "[51] ===> 47\n",
      "[51, 47] ===> 53\n",
      "[51, 47, 53] ===> 6\n",
      "[51, 47, 53, 6] ===> 1\n",
      "[51, 47, 53, 6, 1] ===> 58\n",
      "[51, 47, 53, 6, 1, 58] ===> 46\n",
      "[51, 47, 53, 6, 1, 58, 46] ===> 53\n",
      "[51, 47, 53, 6, 1, 58, 46, 53] ===> 59\n",
      "\n",
      "Block #2:\n",
      "[37] ===> 30\n",
      "[37, 30] ===> 30\n",
      "[37, 30, 30] ===> 17\n",
      "[37, 30, 30, 17] ===> 24\n",
      "[37, 30, 30, 17, 24] ===> 10\n",
      "[37, 30, 30, 17, 24, 10] ===> 0\n",
      "[37, 30, 30, 17, 24, 10, 0] ===> 21\n",
      "[37, 30, 30, 17, 24, 10, 0, 21] ===> 1\n",
      "\n",
      "Block #3:\n",
      "[21] ===> 5\n",
      "[21, 5] ===> 50\n",
      "[21, 5, 50] ===> 50\n",
      "[21, 5, 50, 50] ===> 1\n",
      "[21, 5, 50, 50, 1] ===> 54\n",
      "[21, 5, 50, 50, 1, 54] ===> 56\n",
      "[21, 5, 50, 50, 1, 54, 56] ===> 53\n",
      "[21, 5, 50, 50, 1, 54, 56, 53] ===> 51\n",
      "\n",
      "Block #4:\n",
      "[41] ===> 43\n",
      "[41, 43] ===> 47\n",
      "[41, 43, 47] ===> 60\n",
      "[41, 43, 47, 60] ===> 43\n",
      "[41, 43, 47, 60, 43] ===> 0\n",
      "[41, 43, 47, 60, 43, 0] ===> 37\n",
      "[41, 43, 47, 60, 43, 0, 37] ===> 53\n",
      "[41, 43, 47, 60, 43, 0, 37, 53] ===> 59\n"
     ]
    }
   ],
   "source": [
    "# creating a batch with visualization\n",
    "\n",
    "torch.manual_seed(314159365) # for reproducibility\n",
    "batch_size = 4 # number of blocks in each batche\n",
    "block_size = 8 # context length\n",
    "\n",
    "def get_batch(split):\n",
    "    # create a batch of inputs (x) and targets (y)\n",
    "    \n",
    "    data = train if split == 'train' else val # choose split to use\n",
    "    \n",
    "    idx = torch.randint(len(data) - block_size, (batch_size,)) # get index of random token\n",
    "        \n",
    "    # get inputs and targets based in index\n",
    "    x = torch.stack([data[i : i + block_size] for i in idx])\n",
    "    y = torch.stack([data[i + 1 : i + block_size + 1] for i in idx])\n",
    "    \n",
    "    return x, y\n",
    "\n",
    "Xb, Yb = get_batch('train')\n",
    "print(\"Inputs shape:\", Xb.shape)\n",
    "print(\"Inputs:\")\n",
    "print(Xb)\n",
    "print(\"\\nTargets shape:\", Yb.shape)\n",
    "print(\"Targets:\\n\")\n",
    "print(Yb)\n",
    "\n",
    "for b in range(batch_size):\n",
    "    print(f'\\nBlock #{b+1}:')\n",
    "    for i in range(block_size):\n",
    "        context = Xb[b, :i+1] # context 'slides' over input\n",
    "        target = Yb[b, i]\n",
    "        print(f'{context.tolist()} ===> {target}')"
   ]
  },
  {
   "cell_type": "markdown",
   "id": "78df4ca0",
   "metadata": {},
   "source": [
    "# Bigram Language Model\n"
   ]
  },
  {
   "cell_type": "code",
   "execution_count": 57,
   "id": "30a22d81",
   "metadata": {},
   "outputs": [
    {
     "name": "stdout",
     "output_type": "stream",
     "text": [
      "torch.Size([32, 65])\n",
      "4.797330856323242\n",
      "Expected loss: 4.174387454986572\n",
      "\n",
      "MtcZK!kHeruAiysl3sI\n",
      "&\n",
      "aalhb$GxSyyysk3RkdWF?Yk\n",
      "&iqfF?oHRwm?cqAZxSb  eU$WkqZlD.gnN-zYcjoduqpR!NPZtqjjA\n"
     ]
    }
   ],
   "source": [
    "# lets start with a very simple language model: the Bigram\n",
    "# we will use PyTorch modules rather than building it ourselves\n",
    "# (see my makemore-CityNames repo for Bigram and Trigram models from scratch)\n",
    "\n",
    "torch.manual_seed(314159265) # fro reproducibility\n",
    "\n",
    "class Bigram(nn.Module):\n",
    "    \n",
    "    # initialize the model\n",
    "    def __init__(self, vocab_size):\n",
    "        super().__init__()\n",
    "        self.token_embedding_table = nn.Embedding(vocab_size, vocab_size) # create an 2D embedding table\n",
    "    \n",
    "    # forward pass\n",
    "    def forward(self, idx, targets=None):\n",
    "        \n",
    "        # idx and targets are a both (B, T) tensors of integers where B = batch and T = time (or block)\n",
    "        logits = self.token_embedding_table(idx) # (B, T, C) | C = channels (or vocab_size)\n",
    "        \n",
    "        if targets is None:\n",
    "            loss = None\n",
    "        else:\n",
    "            # dimension manipulation\n",
    "            B, T, C = logits.shape\n",
    "            logits = logits.view((B*T, C))\n",
    "            targets = targets.view((B*T))\n",
    "            loss = F.cross_entropy(logits, targets) # get loss using cross_entropy\n",
    "        return logits, loss\n",
    "    \n",
    "    # generate new tokens\n",
    "    def generate(self, idx, max_new_tokens):\n",
    "        # idx is a (B, T) tensor\n",
    "        for _ in range(max_new_tokens):\n",
    "            \n",
    "            logits, loss = self(idx) # get predictions\n",
    "            \n",
    "            logits = logits[:, -1, :] # focus on last time step (B, C)\n",
    "            probs = F.softmax(logits, dim=1) # get probabilities over rows (B, C)\n",
    "            idx_next = torch.multinomial(probs, num_samples=1) # sample from probs distribution (B, 1)\n",
    "            idx = torch.cat((idx, idx_next), dim=1) # concatenate new token (B, T+1)\n",
    "        \n",
    "        return idx\n",
    "    \n",
    "m = Bigram(vocab_size)\n",
    "logits, loss = m(Xb, Yb)\n",
    "print(logits.shape)\n",
    "print(loss.item())\n",
    "print(\"Expected loss:\", -torch.log(torch.tensor([1/65])).item())\n",
    "\n",
    "# lets generate tokens from the Bigram\n",
    "idx = torch.zeros((1,1), dtype=torch.long) # get index (first token is index 0 or '/n')\n",
    "out = m.generate(idx, max_new_tokens=100)[0].tolist() # generate the new tokens\n",
    "print(decode(out)) # decode the tokens"
   ]
  },
  {
   "cell_type": "markdown",
   "id": "bee97193",
   "metadata": {},
   "source": [
    "### Yay, garbage! But thats ok because the Bigram model is random right now... so let's train it!\n"
   ]
  },
  {
   "cell_type": "code",
   "execution_count": 58,
   "id": "dd7cec22",
   "metadata": {},
   "outputs": [],
   "source": [
    "# create a PyTorch optimizer (to see an optimizer (gradient descent) from scratch go to my makemore-CityNames repo)\n",
    "optimizer = torch.optim.AdamW(m.parameters(), lr=1e-03)"
   ]
  },
  {
   "cell_type": "code",
   "execution_count": 59,
   "id": "2fc41d85",
   "metadata": {},
   "outputs": [
    {
     "name": "stdout",
     "output_type": "stream",
     "text": [
      "2.434514045715332\n"
     ]
    }
   ],
   "source": [
    "batch_size = 32\n",
    "for steps in range(10000):\n",
    "    Xb, Yb = get_batch('train') # get sample batch\n",
    "    \n",
    "    # evaluate loss\n",
    "    logits, loss = m(Xb, Yb)\n",
    "    optimizer.zero_grad(set_to_none=True)\n",
    "    loss.backward()\n",
    "    optimizer.step()\n",
    "    \n",
    "print(loss.item())"
   ]
  },
  {
   "cell_type": "code",
   "execution_count": 60,
   "id": "313b40c2",
   "metadata": {
    "scrolled": false
   },
   "outputs": [
    {
     "name": "stdout",
     "output_type": "stream",
     "text": [
      "\n",
      "MARES:\n",
      "S:\n",
      "\n",
      "TENAwe, s grolasices mo tth;-dis, s ho:\n",
      "I'dre ano, whoyrd cane ther covouave gower a hobicut!\n",
      "ABurhe henghenoustej?\n",
      "Thers m t3:\n",
      "\n",
      "We\n",
      "\n",
      "A'Dehad; be th'sthist s?\n",
      "A:\n",
      "TIONon:\n",
      "\n",
      "O:\n",
      "3d.\n",
      "Amit;\n",
      "\n",
      "\n",
      "a ano por pl mese y,\n",
      "Fina; inoniak!\n",
      "\n",
      "MENESA'annwole t the wisethfonon is hofe shoran sof;\n",
      "A:\n",
      "I:\n",
      "woutheas\n"
     ]
    }
   ],
   "source": [
    "# lets generate tokens from the trained Bigram\n",
    "idx = torch.zeros((1,1), dtype=torch.long) # get index (first token is index 0 or '/n')\n",
    "out = m.generate(idx, max_new_tokens=300)[0].tolist() # generate the new tokens\n",
    "print(decode(out)) # decode the tokens"
   ]
  },
  {
   "cell_type": "markdown",
   "id": "8b2b59e4",
   "metadata": {},
   "source": [
    "# The Math Behind Self-Attention !\n"
   ]
  },
  {
   "cell_type": "code",
   "execution_count": 61,
   "id": "321e5bb3",
   "metadata": {},
   "outputs": [
    {
     "data": {
      "text/plain": [
       "torch.Size([4, 8, 2])"
      ]
     },
     "execution_count": 61,
     "metadata": {},
     "output_type": "execute_result"
    }
   ],
   "source": [
    "# consider the following:\n",
    "\n",
    "torch.manual_seed(314159265)\n",
    "\n",
    "B, T, C = 4, 8, 2 # batch, time, channels\n",
    "x = torch.randn(B,T,C)\n",
    "x.shape"
   ]
  },
  {
   "cell_type": "code",
   "execution_count": 62,
   "id": "1def4029",
   "metadata": {},
   "outputs": [],
   "source": [
    "# version 1: inefficient approach\n",
    "\n",
    "# we want x[b, t] = mean(x[b,i]) where i <= t\n",
    "x_bow = torch.zeros((B,T,C)) # bow: bag of words\n",
    "for b in range(B):\n",
    "    for t in range(T):\n",
    "        xprev = x[b,:t+1] # (t, C)\n",
    "        x_bow[b,t] = torch.mean(xprev, 0)\n"
   ]
  },
  {
   "cell_type": "code",
   "execution_count": 63,
   "id": "fee43d03",
   "metadata": {},
   "outputs": [
    {
     "data": {
      "text/plain": [
       "True"
      ]
     },
     "execution_count": 63,
     "metadata": {},
     "output_type": "execute_result"
    }
   ],
   "source": [
    "# version 2: efficient approach but not what we want yet\n",
    "\n",
    "weights = torch.tril(torch.ones((T,T))) # get trianglular ones tensor\n",
    "weights = weights / torch.sum(weights, 1, keepdims=True) # convert ones to distributions\n",
    "mat = weights @ x  # matrix multiplication\n",
    "\n",
    "torch.allclose(x_bow,mat) # evaluates to true if all values are the same"
   ]
  },
  {
   "cell_type": "code",
   "execution_count": 64,
   "id": "b2732459",
   "metadata": {},
   "outputs": [
    {
     "data": {
      "text/plain": [
       "True"
      ]
     },
     "execution_count": 64,
     "metadata": {},
     "output_type": "execute_result"
    }
   ],
   "source": [
    "# version 3: efficient and uses Softmax\n",
    "tril = torch.tril(torch.ones((T,T)))\n",
    "weights = torch.zeros((T,T)) # get trianglular ones tensor\n",
    "weights = weights.masked_fill(tril == 0, float('-inf'))\n",
    "weights = F.softmax(weights, dim=1)\n",
    "mat = weights @ x  # matrix multiplication\n",
    "\n",
    "torch.allclose(x_bow,mat) # evaluates to true if all values are the same"
   ]
  },
  {
   "cell_type": "markdown",
   "id": "f4ed9a33",
   "metadata": {},
   "source": [
    "### As we can see, we can use matrix multiplication to optimize the calculation of mean over the time steps\n"
   ]
  },
  {
   "cell_type": "code",
   "execution_count": 66,
   "id": "5eda71ba",
   "metadata": {},
   "outputs": [
    {
     "data": {
      "text/plain": [
       "torch.Size([4, 8, 16])"
      ]
     },
     "execution_count": 66,
     "metadata": {},
     "output_type": "execute_result"
    }
   ],
   "source": [
    "# version 4: Attention!\n",
    "torch.manual_seed(314159265)\n",
    "\n",
    "B, T, C = 4, 8, 32\n",
    "x = torch.randn(B, T, C)\n",
    "\n",
    "# a single Head of self-attention\n",
    "head_size = 16\n",
    "key = nn.Linear(C, head_size, bias=False) # token we are at\n",
    "query = nn.Linear(C, head_size, bias=False) # past tokens we want context from\n",
    "value = nn.Linear(C, head_size, bias=False) # communicates data if interested\n",
    "\n",
    "k = key(x) # (B, T, head_size) | in cross attention, this would come from somewhere else\n",
    "q = query(x) # (B, T, head_size)\n",
    "weights = q @ k.transpose(-2, -1) # (B, T, head_size) @ (B, head_size, T) ===> (B, T, T) \n",
    "\n",
    "tril = torch.tril(torch.ones((T,T)))\n",
    "weights = weights.masked_fill(tril == 0, float('-inf')) # delete for encoder attention blocks\n",
    "weights = F.softmax(weights, dim=-1)\n",
    "\n",
    "v = value(x) # in cross attention, this would come from somewhere else\n",
    "out = weights @ v  # matrix multiplication\n",
    "\n",
    "out.shape"
   ]
  },
  {
   "cell_type": "markdown",
   "id": "adda3a91",
   "metadata": {},
   "source": [
    "#### Notes:\n",
    "\n",
    "- Attention is a **communication mechanism**. Can be seen as nodes in a directed graph looking at each other and aggregating information with a weighted sum from all nodes that point to them, with data-dependent weights.\n",
    "- No notion of space. Attention simply acts over a set of vectors. This is why we need to positionally encode of tokens.\n",
    "- Each example across batch dimension is of course processed completely independently and never \"talk\" to each other.\n",
    "- _Self-Attention_ just means that the keys and values are produced from the same source as queries. In _Cross-Attention_, the queries get produced from x, but the keys and values come from some other, external source (e.g. an encoder module)\n",
    "- In an _encoder_ attention block, just delete the single line that does the masking with `tril`, allowing all tokens to communicate. The example above is a _decoder_ attention block because it has triangular masking, and is usually used in autoregressive settings, like language modeling.\n",
    "- _Scaled_ attention additionally divides `weights` by 1 / sqrt(head_size). This makes it so when Q, K are unit variance, `weights` will be unit variance too and Softmax will stay diffuse and not saturate too much i.e. softmax will start to act like one-hot encoding. Example below:\n"
   ]
  },
  {
   "cell_type": "code",
   "execution_count": 68,
   "id": "e8d2261f",
   "metadata": {},
   "outputs": [
    {
     "name": "stdout",
     "output_type": "stream",
     "text": [
      "k var: 1.0471 | q var: 1.1018 | weights var: 1.1922\n"
     ]
    }
   ],
   "source": [
    "# Scaled attention\n",
    "k = torch.randn(B,T,head_size)\n",
    "q = torch.randn(B,T,head_size)\n",
    "weights = q @ k.transpose(-2, -1) * head_size**-0.5 # scaled by head_size**-0.5\n",
    "print(f'k var: {k.var().item():.4f} | q var: {q.var().item():.4f} | weights var: {weights.var().item():.4f}')"
   ]
  },
  {
   "cell_type": "code",
   "execution_count": null,
   "id": "75082ff6",
   "metadata": {},
   "outputs": [],
   "source": []
  }
 ],
 "metadata": {
  "kernelspec": {
   "display_name": "gpt-env",
   "language": "python",
   "name": "python3"
  },
  "language_info": {
   "codemirror_mode": {
    "name": "ipython",
    "version": 3
   },
   "file_extension": ".py",
   "mimetype": "text/x-python",
   "name": "python",
   "nbconvert_exporter": "python",
   "pygments_lexer": "ipython3",
   "version": "3.10.7"
  }
 },
 "nbformat": 4,
 "nbformat_minor": 5
}
